{
 "cells": [
  {
   "cell_type": "markdown",
   "metadata": {},
   "source": [
    "##### Standard Library Overview\n",
    "Python's Standard Library is a vast collection of modules and packages that come bundled with Python, providing a wide range of functionalities out of the box. Here's an overview of some of the most commonly used modules and packages in the Python Standard Library."
   ]
  },
  {
   "cell_type": "code",
   "execution_count": 1,
   "metadata": {},
   "outputs": [
    {
     "name": "stdout",
     "output_type": "stream",
     "text": [
      "array('i', [1, 2, 3, 4])\n"
     ]
    }
   ],
   "source": [
    "import array\n",
    "arr=array.array('i',[1,2,3,4])\n",
    "print(arr)"
   ]
  },
  {
   "cell_type": "code",
   "execution_count": 2,
   "metadata": {},
   "outputs": [
    {
     "name": "stdout",
     "output_type": "stream",
     "text": [
      "4.0\n",
      "3.141592653589793\n"
     ]
    }
   ],
   "source": [
    "import math\n",
    "print(math.sqrt(16))\n",
    "print(math.pi)"
   ]
  },
  {
   "cell_type": "code",
   "execution_count": 6,
   "metadata": {},
   "outputs": [
    {
     "name": "stdout",
     "output_type": "stream",
     "text": [
      "2\n",
      "cherry\n"
     ]
    }
   ],
   "source": [
    "## random \n",
    "\n",
    "import random\n",
    "print(random.randint(1,10))\n",
    "print(random.choice(['apple','banana','cherry']))"
   ]
  },
  {
   "cell_type": "code",
   "execution_count": null,
   "metadata": {},
   "outputs": [
    {
     "name": "stdout",
     "output_type": "stream",
     "text": [
      "c:\\Semtech\\Generative_AI\\Complete-Python-Bootcamp\\5-Modules\n"
     ]
    }
   ],
   "source": [
    "### File And Directory Access\n",
    "# current working Directory\n",
    "import os\n",
    "print(os.getcwd())"
   ]
  },
  {
   "cell_type": "code",
   "execution_count": 8,
   "metadata": {},
   "outputs": [],
   "source": [
    "os.mkdir('test_dir')"
   ]
  },
  {
   "cell_type": "code",
   "execution_count": 9,
   "metadata": {},
   "outputs": [
    {
     "data": {
      "text/plain": [
       "'destination.txt'"
      ]
     },
     "execution_count": 9,
     "metadata": {},
     "output_type": "execute_result"
    }
   ],
   "source": [
    "## High level operations on files and collection of files\n",
    "import shutil\n",
    "shutil.copyfile('source.txt','destination.txt')"
   ]
  },
  {
   "cell_type": "code",
   "execution_count": 3,
   "metadata": {},
   "outputs": [
    {
     "name": "stdout",
     "output_type": "stream",
     "text": [
      "{'name': 'Krish', 'age': 25}\n",
      "<class 'dict'>\n",
      "{\"name\": \"Krish\", \"age\": 25}\n",
      "<class 'str'>\n",
      "{'name': 'Krish', 'age': 25}\n",
      "<class 'dict'>\n"
     ]
    }
   ],
   "source": [
    "## Data Serialization\n",
    "import json\n",
    "data={'name':'Krish','age':25}\n",
    "\n",
    "print(data)\n",
    "print(type(data))\n",
    "\n",
    "json_str=json.dumps(data)  #converts python object to json string\n",
    "print(json_str)\n",
    "print(type(json_str))\n",
    "\n",
    "parsed_data=json.loads(json_str) #converts json string to python object\n",
    "print(parsed_data)\n",
    "print(type(parsed_data))\n"
   ]
  },
  {
   "cell_type": "code",
   "execution_count": null,
   "metadata": {},
   "outputs": [],
   "source": [
    "import pandas as pd\n",
    "\n",
    "# Read CSV file into a DataFrame\n",
    "df = pd.read_csv('data.csv')\n",
    "\n",
    "# Display the content\n",
    "print(df)\n"
   ]
  },
  {
   "cell_type": "code",
   "execution_count": 11,
   "metadata": {},
   "outputs": [
    {
     "name": "stdout",
     "output_type": "stream",
     "text": [
      "['name', 'age']\n",
      "['Krish', '32']\n"
     ]
    }
   ],
   "source": [
    "## csv\n",
    "\n",
    "import csv\n",
    "\n",
    "with open('example.csv',mode='w',newline='') as file:\n",
    "    writer=csv.writer(file)\n",
    "    writer.writerow(['name','age'])\n",
    "    writer.writerow(['Krish',32])\n",
    "\n",
    "with open('example.csv',mode='r') as file:\n",
    "    reader=csv.reader(file)\n",
    "    for row in reader:\n",
    "        print(row)"
   ]
  },
  {
   "cell_type": "code",
   "execution_count": 5,
   "metadata": {},
   "outputs": [
    {
     "name": "stdout",
     "output_type": "stream",
     "text": [
      "2025-09-09 19:05:36.174887\n",
      "2025-09-08 19:05:36.174887\n",
      "Epoch time: 1757424936.1748877\n",
      "Readable: Tue Sep  9 19:05:36 2025\n"
     ]
    }
   ],
   "source": [
    "## datetime\n",
    "from datetime import datetime,timedelta\n",
    "\n",
    "now=datetime.now()\n",
    "print(now)\n",
    "\n",
    "yesterday=now-timedelta(days=1)\n",
    "\n",
    "print(yesterday)\n",
    "\n",
    "epoch_time = time.time()\n",
    "print(\"Epoch time:\", epoch_time)\n",
    "\n",
    "# Convert to readable format\n",
    "readable = time.ctime(epoch_time)\n",
    "print(\"Readable:\", readable)"
   ]
  },
  {
   "cell_type": "markdown",
   "metadata": {},
   "source": [
    "What format is this?\n",
    "\n",
    "This is called the Unix timestamp (or epoch time).\n",
    "\n",
    "It represents the number of seconds since January 1, 1970, 00:00:00 UTC.\n",
    "\n",
    "The decimal part is fractions of a second (microseconds)."
   ]
  },
  {
   "cell_type": "code",
   "execution_count": null,
   "metadata": {},
   "outputs": [
    {
     "name": "stdout",
     "output_type": "stream",
     "text": [
      "1757424917.8251855\n",
      "1757424919.8260064\n",
      "Epoch time: 1757424919.8274012\n",
      "Readable: Tue Sep  9 19:05:19 2025\n"
     ]
    }
   ],
   "source": [
    "## time\n",
    "import time\n",
    "print(time.time())\n",
    "time.sleep(2)\n",
    "print(time.time())\n",
    "\n"
   ]
  },
  {
   "cell_type": "markdown",
   "metadata": {},
   "source": []
  },
  {
   "cell_type": "code",
   "execution_count": 15,
   "metadata": {},
   "outputs": [
    {
     "name": "stdout",
     "output_type": "stream",
     "text": [
      "123\n"
     ]
    }
   ],
   "source": [
    "## Regular expresiion\n",
    "import re\n",
    "\n",
    "pattern=r'\\d+'\n",
    "text='There are 123 apples 456'\n",
    "match=re.search(pattern,text)\n",
    "print(match.group())"
   ]
  },
  {
   "cell_type": "markdown",
   "metadata": {},
   "source": [
    "### 🔑 Key Regex Basics\n",
    "\n",
    "\\d → digit\n",
    "\n",
    "\\w → word character (letters, digits, underscore)\n",
    "\n",
    ". → any character except newline\n",
    "\n",
    "+ → one or more\n",
    "\n",
    "* → zero or more\n",
    "\n",
    "{n} → exactly n times\n",
    "\n",
    "^ → start of string\n",
    "\n",
    "$ → end of string"
   ]
  },
  {
   "cell_type": "code",
   "execution_count": 9,
   "metadata": {},
   "outputs": [
    {
     "name": "stdout",
     "output_type": "stream",
     "text": [
      "Found email: pranav123@example.com\n"
     ]
    }
   ],
   "source": [
    "import re\n",
    "\n",
    "text = \"Contact me at pranav123@example.com for details.\"\n",
    "\n",
    "# Regex for email\n",
    "pattern = r'[a-zA-Z0-9._%+-]+@[a-zA-Z0-9.-]+\\.[a-zA-Z]{2,}'\n",
    "\n",
    "match = re.search(pattern, text)\n",
    "if match:\n",
    "    print(\"Found email:\", match.group())\n"
   ]
  },
  {
   "cell_type": "code",
   "execution_count": 10,
   "metadata": {},
   "outputs": [
    {
     "name": "stdout",
     "output_type": "stream",
     "text": [
      "['pranav123@example.com']\n",
      "looks valid\n"
     ]
    },
    {
     "ename": "NameError",
     "evalue": "name 'x' is not defined",
     "output_type": "error",
     "traceback": [
      "\u001b[31m---------------------------------------------------------------------------\u001b[39m",
      "\u001b[31mNameError\u001b[39m                                 Traceback (most recent call last)",
      "\u001b[36mCell\u001b[39m\u001b[36m \u001b[39m\u001b[32mIn[10]\u001b[39m\u001b[32m, line 13\u001b[39m\n\u001b[32m     11\u001b[39m \u001b[38;5;28;01melse\u001b[39;00m:\n\u001b[32m     12\u001b[39m     \u001b[38;5;28mprint\u001b[39m(\u001b[33m\"\u001b[39m\u001b[33minvalid\u001b[39m\u001b[33m\"\u001b[39m)\n\u001b[32m---> \u001b[39m\u001b[32m13\u001b[39m \u001b[43mx\u001b[49m\n",
      "\u001b[31mNameError\u001b[39m: name 'x' is not defined"
     ]
    }
   ],
   "source": [
    "import re\n",
    "\n",
    "pattern = re.compile(r'[a-zA-Z0-9._%+-]+@[a-zA-Z0-9.-]+\\.[a-zA-Z]{2,}')\n",
    "text = \"Contact: pranav123@example.com and bad..email@x..y\"\n",
    "\n",
    "print(re.findall(pattern, text))\n",
    "# For full validation (whole string should be the email):\n",
    "email = \"pranav123@example.com\"\n",
    "if re.fullmatch(pattern, email):\n",
    "    print(\"looks valid\")\n",
    "else:\n",
    "    print(\"invalid\")\n",
    "x"
   ]
  },
  {
   "cell_type": "code",
   "execution_count": null,
   "metadata": {},
   "outputs": [
    {
     "name": "stdout",
     "output_type": "stream",
     "text": [
      "['42', '108']\n"
     ]
    }
   ],
   "source": [
    "##Example 2: Find All Numbers in Text\n",
    "\n",
    "import re\n",
    "\n",
    "text = \"My roll number is 42 and my friend's is 108.\"\n",
    "numbers = re.findall(r'\\d+', text)\n",
    "print(numbers)\n"
   ]
  },
  {
   "cell_type": "code",
   "execution_count": null,
   "metadata": {},
   "outputs": [],
   "source": [
    "##Example 3: Validate if String is a Phone Number (10 digits)\n",
    "\n",
    "import re\n",
    "\n",
    "phone = \"9876543210\"\n",
    "\n",
    "if re.fullmatch(r'\\d{10}', phone):\n",
    "    print(\"Valid phone number\")\n",
    "else:\n",
    "    print(\"Invalid phone number\")\n"
   ]
  },
  {
   "cell_type": "markdown",
   "metadata": {},
   "source": [
    "### pattern (what it does)\n",
    "r'[a-zA-Z0-9._%+-]+@[a-zA-Z0-9.-]+\\.[a-zA-Z]{2,}'\n",
    "\n",
    "\n",
    "r'...' → raw string literal. Use this so backslashes are passed into the regex engine exactly as you type them (no \"\\n\" escape surprises).\n",
    "\n",
    "[a-zA-Z0-9._%+-]+ → local part (before @): a character class allowing letters, digits, dot ., underscore _, percent %, plus +, and hyphen -. The + after the class means one or more of these characters.\n",
    "\n",
    "Note: inside [...] the dot . is literal (no need to escape).\n",
    "\n",
    "Important: this allows consecutive dots (e.g. john..doe) — which may be invalid in real email rules.\n",
    "\n",
    "@ → literal at-sign separating local and domain parts.\n",
    "\n",
    "[a-zA-Z0-9.-]+ → domain part: letters, digits, dot and hyphen. + requires at least one character.\n",
    "\n",
    "This allows sub.domain etc. But it also allows domain labels to start/end with - or allow consecutive dots — both are undesirable.\n",
    "\n",
    "\\. → literal dot before the TLD. . in regex normally matches any char, so we escape it to match a dot.\n",
    "\n",
    "[a-zA-Z]{2,} → TLD: at least 2 letters (e.g. com, io, co.uk — note, co.uk is two-level; the pattern only enforces the final part to be letters of length ≥2).\n",
    "\n",
    "This will reject a one-letter TLD (rare) and it doesn’t handle IDN/punycode or some newer TLDs that contain digits/hyphens like xn--... if you want to allow those you need adjustments.\n",
    "\n",
    "## Meaning of {2,}\n",
    "\n",
    "{n} → exactly n times\n",
    "\n",
    "{n,} → at least n times\n",
    "\n",
    "{n,m} → between n and m times (inclusive)\n",
    "\n",
    "So:\n",
    "\n",
    "a{2,} → match “aa” or more (aaa, aaaaa, …).\n",
    "\n",
    "\\d{2,} → match numbers with 2 or more digits (e.g. 12, 9876).\n",
    "\n",
    "[a-zA-Z]{2,} → match words of at least 2 letters (like hi, hello, world).\n",
    "\n",
    "✅ Example in Python\n"
   ]
  },
  {
   "cell_type": "markdown",
   "metadata": {},
   "source": [
    "#### Conclusion\n",
    "Python's Standard Library is extensive and provides tools for almost any task you can think of, from file handling to web services, from data serialization to concurrent execution. Familiarizing yourself with the modules and packages available in the Standard Library can significantly enhance your ability to write efficient and effective Python programs."
   ]
  }
 ],
 "metadata": {
  "kernelspec": {
   "display_name": "Python 3",
   "language": "python",
   "name": "python3"
  },
  "language_info": {
   "codemirror_mode": {
    "name": "ipython",
    "version": 3
   },
   "file_extension": ".py",
   "mimetype": "text/x-python",
   "name": "python",
   "nbconvert_exporter": "python",
   "pygments_lexer": "ipython3",
   "version": "3.12.10"
  }
 },
 "nbformat": 4,
 "nbformat_minor": 2
}
